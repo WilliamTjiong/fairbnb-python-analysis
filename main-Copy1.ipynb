{
 "cells": [
  {
   "cell_type": "markdown",
   "metadata": {},
   "source": [
    "<b>Notebook for exploring tourism intensity and other spatial attributes based on Inside Airbnb listing data </b>"
   ]
  },
  {
   "cell_type": "code",
   "execution_count": 1,
   "metadata": {},
   "outputs": [],
   "source": [
    "import pandas as pd\n",
    "import geopandas as gpd\n",
    "import matplotlib.pyplot as plt\n",
    "\n",
    "from geopandas import GeoDataFrame\n",
    "from shapely.geometry import Point\n",
    "\n",
    "%matplotlib inline\n",
    "plt.rcParams['figure.figsize'] = (20, 10)\n",
    "pd.options.display.max_columns = None"
   ]
  },
  {
   "cell_type": "code",
   "execution_count": 2,
   "metadata": {},
   "outputs": [],
   "source": [
    "#loading inside airbnb data\n",
    "download_url = \"http://data.insideairbnb.com/the-netherlands/north-holland/amsterdam/2019-05-06/data/listings.csv.gz\"\n",
    "cols= ['id','room_type','beds','latitude','longitude','availability_365','host_is_superhost','price','number_of_reviews']\n",
    "airbnb_df = pd.read_csv(download_url,usecols=cols)\n",
    "airbnb_df['price'] = airbnb_df['price'].str.replace('$','')\n",
    "airbnb_df['price'] = pd.to_numeric(airbnb_df['price'],errors='coerce')\n",
    "\n",
    "#loading Amsterdam 2018 census data\n",
    "nbh_geojson = gpd.read_file(\"./neighbourhoods_2018.geojson\", driver='GeoJSON')\n",
    "nbh_gdf = GeoDataFrame(nbh_geojson, crs={'init': 'epsg:4326'}, geometry=nbh_geojson['geometry'])\n",
    "nbh_gdf['area_km2'] = nbh_gdf.to_crs({'init': 'epsg:28992'})['geometry'].area/10**6"
   ]
  },
  {
   "cell_type": "code",
   "execution_count": 3,
   "metadata": {
    "scrolled": true
   },
   "outputs": [],
   "source": [
    "geometry = [Point(xy) for xy in zip(airbnb_df['longitude'], airbnb_df['latitude'])]\n",
    "airbnb_df = airbnb_df.drop(['latitude', 'longitude'], axis=1)\n",
    "airbnb_gdf = GeoDataFrame(airbnb_df, crs={'init': 'epsg:4326'}, geometry=geometry)\n",
    "\n",
    "room = airbnb_gdf.loc[airbnb_gdf['room_type'].isin(['Private room','Shared room'])]\n",
    "entire_home = airbnb_gdf.loc[airbnb_gdf['room_type']=='Entire home/apt']\n",
    "superhost = airbnb_gdf.loc[airbnb_gdf['host_is_superhost']=='t']"
   ]
  },
  {
   "cell_type": "code",
   "execution_count": null,
   "metadata": {},
   "outputs": [],
   "source": [
    "#perform spatial join\n",
    "join_room = gpd.sjoin(nbh_gdf,room,how='inner',op='contains').groupby('Buurt').size().reset_index(name='Airbnb_RoomRentalCount')\n",
    "join_entire = gpd.sjoin(nbh_gdf,entire_home,how='inner',op='contains').groupby('Buurt').size().reset_index(name='Airbnb_EntireLodgeCount')\n",
    "join_superhost = gpd.sjoin(nbh_gdf,superhost,how='inner',op='contains').groupby('Buurt').size().reset_index(name='Airbnb_SuperhostCount')\n",
    "join_beds = gpd.sjoin(nbh_gdf,airbnb_gdf,how='inner',op='contains').groupby(['Buurt'])['beds'].sum().reset_index(name='Airbnb_BedsCount')\n",
    "join_price = gpd.sjoin(nbh_gdf,airbnb_gdf,how='inner',op='contains').groupby(['Buurt'])['price'].mean().reset_index(name='Airbnb_AvgPrice')"
   ]
  },
  {
   "cell_type": "code",
   "execution_count": null,
   "metadata": {
    "scrolled": true
   },
   "outputs": [],
   "source": [
    "#merge count data with neighbourhood data\n",
    "nbh_gdf = nbh_gdf.merge(join_room,on='Buurt')\n",
    "nbh_gdf = nbh_gdf.merge(join_entire,on='Buurt')\n",
    "nbh_gdf = nbh_gdf.merge(join_superhost,on='Buurt')\n",
    "nbh_gdf = nbh_gdf.merge(join_beds,on='Buurt')\n",
    "nbh_gdf = nbh_gdf.merge(join_price,on='Buurt')\n",
    "#nbh_gdf['Airbnb_ListingCount']= nbh_gdf['Airbnb_RoomRentalCount'] + nbh_gdf['Airbnb_EntireLodgeCount']"
   ]
  },
  {
   "cell_type": "code",
   "execution_count": null,
   "metadata": {
    "scrolled": true
   },
   "outputs": [],
   "source": [
    "#calculate bed intensity per 1000 inhabitants\n",
    "nbh_gdf['Airbnb_TouristCapacity'] = nbh_gdf['Airbnb_ListingCount']/nbh_gdf['area_km2']\n",
    "nbh_gdf['Airbnb_TouristIntensity'] = nbh_gdf['Airbnb_BedsCount']/nbh_gdf['2018_tot']"
   ]
  },
  {
   "cell_type": "code",
   "execution_count": null,
   "metadata": {},
   "outputs": [],
   "source": [
    "#show spatial distribution\n",
    "#f,ax = plt.subplots()\n",
    "#nbh_gdf.to_crs({'init': 'epsg:28992'}).plot(ax=ax, edgecolor='black',column='tourism_intensity')"
   ]
  },
  {
   "cell_type": "code",
   "execution_count": null,
   "metadata": {
    "scrolled": true
   },
   "outputs": [],
   "source": [
    "nbh_gdf.head()"
   ]
  },
  {
   "cell_type": "code",
   "execution_count": null,
   "metadata": {
    "scrolled": true
   },
   "outputs": [],
   "source": []
  },
  {
   "cell_type": "code",
   "execution_count": null,
   "metadata": {},
   "outputs": [],
   "source": []
  },
  {
   "cell_type": "code",
   "execution_count": null,
   "metadata": {},
   "outputs": [],
   "source": []
  }
 ],
 "metadata": {
  "kernelspec": {
   "display_name": "Python 3",
   "language": "python",
   "name": "python3"
  },
  "language_info": {
   "codemirror_mode": {
    "name": "ipython",
    "version": 3
   },
   "file_extension": ".py",
   "mimetype": "text/x-python",
   "name": "python",
   "nbconvert_exporter": "python",
   "pygments_lexer": "ipython3",
   "version": "3.7.3"
  }
 },
 "nbformat": 4,
 "nbformat_minor": 2
}
