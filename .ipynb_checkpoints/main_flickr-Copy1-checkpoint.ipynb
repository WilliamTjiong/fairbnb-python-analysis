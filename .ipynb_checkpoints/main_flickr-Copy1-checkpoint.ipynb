{
 "cells": [
  {
   "cell_type": "code",
   "execution_count": 37,
   "metadata": {},
   "outputs": [],
   "source": [
    "import pandas as pd\n",
    "import time\n",
    "import flickrapi\n",
    "import json\n",
    "import datetime\n",
    "import csv\n",
    "\n",
    "api_key = u'9167a49cfce881f8712c26d6542fbc51'\n",
    "api_secret = u'4dfb057a1d42faaa'\n",
    "flickr = flickrapi.FlickrAPI(api_key, api_secret)\n",
    "\n"
   ]
  },
  {
   "cell_type": "code",
   "execution_count": 35,
   "metadata": {
    "collapsed": true
   },
   "outputs": [
    {
     "name": "stdout",
     "output_type": "stream",
     "text": [
      "{'id': '48121305478', 'owner': '88550037@N08', 'secret': '3f1f178f50', 'server': '65535', 'farm': '66', 'title': 'Korean B777', 'ispublic': '1', 'isfriend': '0', 'isfamily': '0', 'latitude': '52.320958', 'longitude': '4.768694', 'accuracy': '16', 'context': '0', 'geo_is_family': '0', 'geo_is_friend': '0', 'geo_is_contact': '0', 'geo_is_public': '1'}\n",
      "{'id': '48121304683', 'owner': '88550037@N08', 'secret': '616e5e92cc', 'server': '65535', 'farm': '66', 'title': 'Korean B777', 'ispublic': '1', 'isfriend': '0', 'isfamily': '0', 'latitude': '52.320958', 'longitude': '4.768694', 'accuracy': '16', 'context': '0', 'geo_is_family': '0', 'geo_is_friend': '0', 'geo_is_contact': '0', 'geo_is_public': '1'}\n"
     ]
    },
    {
     "ename": "NameError",
     "evalue": "name 'FlickrError' is not defined",
     "output_type": "error",
     "traceback": [
      "\u001b[1;31m---------------------------------------------------------------------------\u001b[0m",
      "\u001b[1;31mKeyboardInterrupt\u001b[0m                         Traceback (most recent call last)",
      "\u001b[1;32m<ipython-input-35-0ba8038e5168>\u001b[0m in \u001b[0;36m<module>\u001b[1;34m\u001b[0m\n\u001b[0;32m      6\u001b[0m         \u001b[1;31m#df = df.append({'id': photo.attrib['id'], 'lat': photo.attrib['latitude'], 'lon': photo.attrib['longitude']}, ignore_index=True)\u001b[0m\u001b[1;33m\u001b[0m\u001b[1;33m\u001b[0m\u001b[1;33m\u001b[0m\u001b[0m\n\u001b[1;32m----> 7\u001b[1;33m         \u001b[0mtime\u001b[0m\u001b[1;33m.\u001b[0m\u001b[0msleep\u001b[0m\u001b[1;33m(\u001b[0m\u001b[1;36m1\u001b[0m\u001b[1;33m)\u001b[0m\u001b[1;33m\u001b[0m\u001b[1;33m\u001b[0m\u001b[0m\n\u001b[0m\u001b[0;32m      8\u001b[0m     \u001b[1;32mexcept\u001b[0m \u001b[0mFlickrError\u001b[0m\u001b[1;33m:\u001b[0m\u001b[1;33m\u001b[0m\u001b[1;33m\u001b[0m\u001b[0m\n",
      "\u001b[1;31mKeyboardInterrupt\u001b[0m: ",
      "\nDuring handling of the above exception, another exception occurred:\n",
      "\u001b[1;31mNameError\u001b[0m                                 Traceback (most recent call last)",
      "\u001b[1;32m<ipython-input-35-0ba8038e5168>\u001b[0m in \u001b[0;36m<module>\u001b[1;34m\u001b[0m\n\u001b[0;32m      6\u001b[0m         \u001b[1;31m#df = df.append({'id': photo.attrib['id'], 'lat': photo.attrib['latitude'], 'lon': photo.attrib['longitude']}, ignore_index=True)\u001b[0m\u001b[1;33m\u001b[0m\u001b[1;33m\u001b[0m\u001b[1;33m\u001b[0m\u001b[0m\n\u001b[0;32m      7\u001b[0m         \u001b[0mtime\u001b[0m\u001b[1;33m.\u001b[0m\u001b[0msleep\u001b[0m\u001b[1;33m(\u001b[0m\u001b[1;36m1\u001b[0m\u001b[1;33m)\u001b[0m\u001b[1;33m\u001b[0m\u001b[1;33m\u001b[0m\u001b[0m\n\u001b[1;32m----> 8\u001b[1;33m     \u001b[1;32mexcept\u001b[0m \u001b[0mFlickrError\u001b[0m\u001b[1;33m:\u001b[0m\u001b[1;33m\u001b[0m\u001b[1;33m\u001b[0m\u001b[0m\n\u001b[0m\u001b[0;32m      9\u001b[0m         \u001b[0mtime\u001b[0m\u001b[1;33m.\u001b[0m\u001b[0msleep\u001b[0m\u001b[1;33m(\u001b[0m\u001b[1;36m30\u001b[0m\u001b[1;33m)\u001b[0m\u001b[1;33m\u001b[0m\u001b[1;33m\u001b[0m\u001b[0m\n",
      "\u001b[1;31mNameError\u001b[0m: name 'FlickrError' is not defined"
     ]
    }
   ],
   "source": [
    "for photo in flickr.walk(per_page=1,tag_mode='any',\n",
    "                         tags='amsterdam',extras=\"geo\",bbox=\"4.702148,52.282442,5.059891,52.459775\"):\n",
    "    try:\n",
    "        title = photo.attrib['title']\n",
    "        photo_id = photo.attrib['id']\n",
    "        lat = photo.attrib['latitude']\n",
    "        lon =  photo.attrib['longitude']\n",
    "        \n",
    "        #df = df.append({'id': photo.attrib['id'], 'lat': photo.attrib['latitude'], 'lon': photo.attrib['longitude']}, ignore_index=True)\n",
    "        time.sleep(1)\n",
    "    except FlickrError:\n",
    "        time.sleep(30)"
   ]
  },
  {
   "cell_type": "code",
   "execution_count": 36,
   "metadata": {},
   "outputs": [
    {
     "name": "stdout",
     "output_type": "stream",
     "text": [
      "Ramon Kok\n",
      "2019-06-02 17:10:41\n",
      "2019-06-23 15:20:21\n",
      "De Kwakel, The Netherlands\n"
     ]
    }
   ],
   "source": [
    "json = flickr.photos.getInfo(photo_id='48113778837',format='json')\n",
    "my_json = json.decode('utf8')\n",
    "username = (my_json[my_json.find('\"username\":\"')+len('\"username\":\"'):my_json.rfind('\",\"realname\"')])\n",
    "date_posted = my_json[my_json.find('\"dates\":{\"posted\":\"')+len('\"dates\":{\"posted\":\"'):my_json.rfind('\",\"taken\"')]\n",
    "date_taken = my_json[my_json.find('\"taken\":\"')+len('\"taken\":\"'):my_json.rfind('\",\"takengranularity\"')]\n",
    "location = my_json[my_json.find('\"location\":\"')+len('\"location\":\"'):my_json.rfind('\",\"iconserver\"')]\n",
    "print(username)\n",
    "print(datetime.datetime.strptime(date_taken, '%Y-%m-%d %H:%M:%S'))\n",
    "print(datetime.datetime.fromtimestamp(int(date_posted)))\n",
    "print(location)"
   ]
  },
  {
   "cell_type": "code",
   "execution_count": 43,
   "metadata": {},
   "outputs": [
    {
     "ename": "NameError",
     "evalue": "name 'FlickrError' is not defined",
     "output_type": "error",
     "traceback": [
      "\u001b[1;31m---------------------------------------------------------------------------\u001b[0m",
      "\u001b[1;31mKeyboardInterrupt\u001b[0m                         Traceback (most recent call last)",
      "\u001b[1;32m<ipython-input-43-6049c419316f>\u001b[0m in \u001b[0;36m<module>\u001b[1;34m\u001b[0m\n\u001b[0;32m     14\u001b[0m             \u001b[1;31m#df = df.append({'id': photo.attrib['id'], 'lat': photo.attrib['latitude'], 'lon': photo.attrib['longitude']}, ignore_index=True)\u001b[0m\u001b[1;33m\u001b[0m\u001b[1;33m\u001b[0m\u001b[1;33m\u001b[0m\u001b[0m\n\u001b[1;32m---> 15\u001b[1;33m             \u001b[0mtime\u001b[0m\u001b[1;33m.\u001b[0m\u001b[0msleep\u001b[0m\u001b[1;33m(\u001b[0m\u001b[1;36m1\u001b[0m\u001b[1;33m)\u001b[0m\u001b[1;33m\u001b[0m\u001b[1;33m\u001b[0m\u001b[0m\n\u001b[0m\u001b[0;32m     16\u001b[0m         \u001b[1;32mexcept\u001b[0m \u001b[0mFlickrError\u001b[0m\u001b[1;33m:\u001b[0m\u001b[1;33m\u001b[0m\u001b[1;33m\u001b[0m\u001b[0m\n",
      "\u001b[1;31mKeyboardInterrupt\u001b[0m: ",
      "\nDuring handling of the above exception, another exception occurred:\n",
      "\u001b[1;31mNameError\u001b[0m                                 Traceback (most recent call last)",
      "\u001b[1;32m<ipython-input-43-6049c419316f>\u001b[0m in \u001b[0;36m<module>\u001b[1;34m\u001b[0m\n\u001b[0;32m     14\u001b[0m             \u001b[1;31m#df = df.append({'id': photo.attrib['id'], 'lat': photo.attrib['latitude'], 'lon': photo.attrib['longitude']}, ignore_index=True)\u001b[0m\u001b[1;33m\u001b[0m\u001b[1;33m\u001b[0m\u001b[1;33m\u001b[0m\u001b[0m\n\u001b[0;32m     15\u001b[0m             \u001b[0mtime\u001b[0m\u001b[1;33m.\u001b[0m\u001b[0msleep\u001b[0m\u001b[1;33m(\u001b[0m\u001b[1;36m1\u001b[0m\u001b[1;33m)\u001b[0m\u001b[1;33m\u001b[0m\u001b[1;33m\u001b[0m\u001b[0m\n\u001b[1;32m---> 16\u001b[1;33m         \u001b[1;32mexcept\u001b[0m \u001b[0mFlickrError\u001b[0m\u001b[1;33m:\u001b[0m\u001b[1;33m\u001b[0m\u001b[1;33m\u001b[0m\u001b[0m\n\u001b[0m\u001b[0;32m     17\u001b[0m             \u001b[0mtime\u001b[0m\u001b[1;33m.\u001b[0m\u001b[0msleep\u001b[0m\u001b[1;33m(\u001b[0m\u001b[1;36m30\u001b[0m\u001b[1;33m)\u001b[0m\u001b[1;33m\u001b[0m\u001b[1;33m\u001b[0m\u001b[0m\n",
      "\u001b[1;31mNameError\u001b[0m: name 'FlickrError' is not defined"
     ]
    }
   ],
   "source": [
    "with open('./sample_flickr.csv', 'w') as csvFile:\n",
    "    fieldnames = ['title','photo_id','lat','lon']\n",
    "    writer = csv.DictWriter(csvFile, fieldnames=fieldnames,lineterminator = '\\n')\n",
    "    writer.writeheader()\n",
    "    \n",
    "    for photo in flickr.walk(per_page=500,tag_mode='any',tags='amsterdam',extras=\"geo\",\n",
    "                             bbox=\"4.702148,52.282442,5.059891,52.459775\"):\n",
    "        try:\n",
    "            photo_title = photo.attrib['title']\n",
    "            photo_id = photo.attrib['id']\n",
    "            lat = photo.attrib['latitude']\n",
    "            lon =  photo.attrib['longitude']\n",
    "            \n",
    "            bulk_info_byte = flickr.photos.getInfo(photo_id=photo_id,format='json')\n",
    "            json = bulk_info_byte.decode('utf8')\n",
    "            username = (my_json[my_json.find('\"username\":\"')+len('\"username\":\"'):my_json.rfind('\",\"realname\"')])\n",
    "            date_posted = my_json[my_json.find('\"dates\":{\"posted\":\"')+len('\"dates\":{\"posted\":\"'):my_json.rfind('\",\"taken\"')]\n",
    "            date_taken = my_json[my_json.find('\"taken\":\"')+len('\"taken\":\"'):my_json.rfind('\",\"takengranularity\"')]\n",
    "            user_location = my_json[my_json.find('\"location\":\"')+len('\"location\":\"'):my_json.rfind('\",\"iconserver\"')]\n",
    "            \n",
    "            writer.writerow({'photo_id': photo_id,'photo_title': title,'username':username,'date_posted':date_posted,\n",
    "                             'date_take':date_taken,'user_location':user_location,'lat': lat,'lon':lon})\n",
    "            time.sleep(1)\n",
    "        except FlickrError:\n",
    "            time.sleep(30)"
   ]
  },
  {
   "cell_type": "code",
   "execution_count": null,
   "metadata": {},
   "outputs": [],
   "source": []
  },
  {
   "cell_type": "code",
   "execution_count": null,
   "metadata": {},
   "outputs": [],
   "source": []
  },
  {
   "cell_type": "code",
   "execution_count": null,
   "metadata": {},
   "outputs": [],
   "source": []
  }
 ],
 "metadata": {
  "kernelspec": {
   "display_name": "Python 3",
   "language": "python",
   "name": "python3"
  },
  "language_info": {
   "codemirror_mode": {
    "name": "ipython",
    "version": 3
   },
   "file_extension": ".py",
   "mimetype": "text/x-python",
   "name": "python",
   "nbconvert_exporter": "python",
   "pygments_lexer": "ipython3",
   "version": "3.7.3"
  }
 },
 "nbformat": 4,
 "nbformat_minor": 2
}
