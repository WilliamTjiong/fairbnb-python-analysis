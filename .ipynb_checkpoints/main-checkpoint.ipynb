{
 "cells": [
  {
   "cell_type": "markdown",
   "metadata": {},
   "source": [
    "<b>Notebook for exploring tourism intensity and other spatial attributes based on Inside Airbnb listing data </b>"
   ]
  },
  {
   "cell_type": "code",
   "execution_count": null,
   "metadata": {},
   "outputs": [],
   "source": [
    "import pandas as pd\n",
    "import datetime\n",
    "import geopandas as gpd\n",
    "import seaborn as sns\n",
    "import glob as glob\n",
    "import matplotlib.pyplot as plt\n",
    "from pylab import savefig\n",
    "import matplotlib.ticker as mtick\n",
    "from scripts.data_wrangling import listing2gdf, census2gdf,CalculateTouristIntensity,aggregate\n",
    "\n",
    "from IPython.core.display import display, HTML\n",
    "display(HTML(\"<style>.container { width:100% !important; }</style>\"))"
   ]
  },
  {
   "cell_type": "code",
   "execution_count": null,
   "metadata": {},
   "outputs": [],
   "source": [
    "#listing data urls\n",
    "apr2019 = \"http://data.insideairbnb.com/the-netherlands/north-holland/amsterdam/2019-04-08/data/listings.csv.gz\"\n",
    "apr2018 = \"http://data.insideairbnb.com/the-netherlands/north-holland/amsterdam/2018-04-07/data/listings.csv.gz\"\n",
    "apr2017 = \"http://data.insideairbnb.com/the-netherlands/north-holland/amsterdam/2017-04-02/data/listings.csv.gz\"\n",
    "apr2016 = \"http://data.insideairbnb.com/the-netherlands/north-holland/amsterdam/2016-04-04/data/listings.csv.gz\"\n",
    "apr2015 = \"http://data.insideairbnb.com/the-netherlands/north-holland/amsterdam/2015-04-05/data/listings.csv.gz\"\n",
    "\n",
    "listings_2015_2019 = [apr2015,apr2019,apr2018,apr2017,apr2016]"
   ]
  },
  {
   "cell_type": "code",
   "execution_count": null,
   "metadata": {},
   "outputs": [],
   "source": [
    "#retrieve and process that listing data\n",
    "for url in listings_2015_2019:\n",
    "    \n",
    "    date = url.split('/')[-3]\n",
    "    year = date[0:4]\n",
    "    \n",
    "    print(\"Processing: \\n\" + url)\n",
    "    \n",
    "    #load airbnb data and seperate features\n",
    "    airbnb_gdf = listing2gdf(url)\n",
    "    room = airbnb_gdf.loc[airbnb_gdf['room_type'].isin(['Private room','Shared room'])]\n",
    "    entire_home = airbnb_gdf.loc[airbnb_gdf['room_type']=='Entire home/apt']\n",
    "    superhost = airbnb_gdf.loc[airbnb_gdf['host_is_superhost']=='t']\n",
    "\n",
    "    #loading Amsterdam census data\n",
    "    nbh_gdf = census2gdf(\"./data/amsterdam_neighbourhoods.geojson\")\n",
    "    \n",
    "    #aggregate airbnb features and census data\n",
    "    nbh_gdf = aggregate(airbnb_gdf,nbh_gdf,room,entire_home,superhost)\n",
    "    \n",
    "    #calculate tourist intensity\n",
    "    nbh_gdf = CalculateTouristIntensity(nbh_gdf,year)\n",
    "    nbh_gdf['date'] = date\n",
    "    \n",
    "    #export listing and airbnb data as geojson files\n",
    "    nbh_gdf.to_file(\"./output/AirbnbPoly_{}.geojson\".format(date.replace('-','')), driver=\"GeoJSON\",encoding='utf-8')\n",
    "    airbnb_gdf.to_file(\"./output/AirbnbPoints_{}.geojson\".format(date.replace('-','')),driver=\"GeoJSON\",encoding='utf-8')\n",
    "    \n",
    "    print(\"Done!\")"
   ]
  },
  {
   "cell_type": "code",
   "execution_count": null,
   "metadata": {},
   "outputs": [],
   "source": [
    "#concatenate geojson from different years\n",
    "data_poly = []\n",
    "for poly in glob.glob(\"./output/AirbnbPoly_*\"):\n",
    "    gdf = gpd.read_file(poly, driver='GeoJSON')\n",
    "    pdf = pd.DataFrame(gdf)\n",
    "    data_poly.append(pdf)\n",
    "    concat = pd.concat(data_poly, axis=0)\n",
    "    combined_gdf = gpd.GeoDataFrame(concat)\n",
    "combined_gdf.to_file(\"./output/AirbnbPoly_2015to2019.geojson\", driver=\"GeoJSON\",encoding='utf-8')\n",
    "\n",
    "data_point = []\n",
    "for poly in glob.glob(\"./output/AirbnbPoints_*\"):\n",
    "    gdf = gpd.read_file(poly, driver='GeoJSON')\n",
    "    pdf = pd.DataFrame(gdf)\n",
    "    data_point.append(pdf)\n",
    "    concat = pd.concat(data_point, axis=0)\n",
    "    combined_gdf = gpd.GeoDataFrame(concat)\n",
    "combined_gdf.to_file(\"./output/AirbnbPoints_2015to2019.geojson\", driver=\"GeoJSON\",encoding='utf-8')"
   ]
  },
  {
   "cell_type": "markdown",
   "metadata": {},
   "source": [
    "<b>Plots </b>"
   ]
  },
  {
   "cell_type": "code",
   "execution_count": null,
   "metadata": {},
   "outputs": [],
   "source": [
    "\n",
    "\n"
   ]
  },
  {
   "cell_type": "code",
   "execution_count": null,
   "metadata": {},
   "outputs": [],
   "source": [
    "#Top 10 Airbnb Neighbourhoods in Amsterdam April 2015-2019\n",
    "airbnb = gpd.read_file(\"./output/AirbnbPoly_2015to2019.geojson\",driver='GeoJSON')\n",
    "for date in airbnb['date'].unique():\n",
    "    listing = airbnb[airbnb['date'].str.contains(date)]\n",
    "    listing = listing.sort_values(by='Airbnb_ListingCount',ascending=False)[:10]\n",
    "    \n",
    "    sns.set(style=\"whitegrid\")\n",
    "    fig, ax = plt.subplots()\n",
    "    ax.axes.set_title(\"Top 10 Airbnb Neighourhoods in \\nAmsterdam {}\".format(date),fontsize=13,fontweight=\"bold\")\n",
    "    sns.barplot(x='Airbnb_ListingCount', y='Buurt', data=listing,label=\"Entire Lodge\", color=\"#f49191\")\n",
    "    sns.barplot(x='Airbnb_RoomRentalCount', y='Buurt',data= listing,label=\"Room\", color=\"#F7F48B\")\n",
    "    ax.set_xlabel('Airbnb Listing')\n",
    "    ax.set_ylabel('Neighourhood')\n",
    "\n",
    "    ax.legend(ncol=1, loc=\"lower right\", frameon=True)\n",
    "    ax.set(xlim=(0, 400))\n",
    "    sns.despine(left=True, bottom=False)\n",
    "    #plt.savefig(\"./images/top10airbnb_april{}.png\".format(date[0:4]),bbox_inches = \"tight\",dpi=300) "
   ]
  },
  {
   "cell_type": "code",
   "execution_count": null,
   "metadata": {
    "scrolled": true
   },
   "outputs": [],
   "source": [
    "for date in airbnb['date'].unique():\n",
    "    listing = airbnb[airbnb['date'].str.contains(date)]\n",
    "    listing = listing.sort_values(by='Airbnb_AvgPrice',ascending=False)[:10]\n",
    "    \n",
    "    sns.set(style=\"whitegrid\")\n",
    "    fig, ax = plt.subplots()\n",
    "    ax.axes.set_title(\"Top 10 Expensive Airbnb Neighourhoods in \\nAmsterdam {}\".format(date),fontsize=13,fontweight=\"bold\")\n",
    "    sns.barplot(x='Airbnb_AvgPrice', y='Buurt', data=listing,label=\"Entire Lodge\", color=\"#f49191\")\n",
    "    ax.set_xlabel('Airbnb Average Price in U.S. ')\n",
    "    ax.set_ylabel('Neighourhood')\n",
    "    \n",
    "    fmt = '${x:,.0f}'\n",
    "    tick = mtick.StrMethodFormatter(fmt)\n",
    "    ax.xaxis.set_major_formatter(tick) \n",
    "\n",
    "    ax.legend(ncol=1, loc=\"lower right\", frameon=True)\n",
    "    ax.set(xlim=(0, 400))\n",
    "    sns.despine(left=True, bottom=False)\n",
    "    #plt.savefig(\"./images/top10airbnb_april{}.png\".format(date[0:4]),bbox_inches = \"tight\",dpi=300) "
   ]
  },
  {
   "cell_type": "code",
   "execution_count": null,
   "metadata": {},
   "outputs": [],
   "source": [
    "listing.head()"
   ]
  },
  {
   "cell_type": "code",
   "execution_count": null,
   "metadata": {},
   "outputs": [],
   "source": []
  }
 ],
 "metadata": {
  "kernelspec": {
   "display_name": "Python 3",
   "language": "python",
   "name": "python3"
  },
  "language_info": {
   "codemirror_mode": {
    "name": "ipython",
    "version": 3
   },
   "file_extension": ".py",
   "mimetype": "text/x-python",
   "name": "python",
   "nbconvert_exporter": "python",
   "pygments_lexer": "ipython3",
   "version": "3.7.3"
  }
 },
 "nbformat": 4,
 "nbformat_minor": 2
}
