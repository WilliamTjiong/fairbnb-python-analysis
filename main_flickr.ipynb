{
 "cells": [
  {
   "cell_type": "code",
   "execution_count": 2,
   "metadata": {},
   "outputs": [],
   "source": [
    "import pandas as pd\n",
    "import time\n",
    "import flickrapi\n",
    "import json\n",
    "\n",
    "\n",
    "#api_key = \n",
    "#api_secret = \n",
    "flickr = flickrapi.FlickrAPI(api_key, api_secret)\n",
    "df = pd.DataFrame({'id': [], 'lat': [], 'lon': []})\n"
   ]
  },
  {
   "cell_type": "code",
   "execution_count": null,
   "metadata": {},
   "outputs": [],
   "source": [
    "for photo in flickr.walk(per_page=1,tag_mode='any',tags='amsterdam',extras=\"geo\"):\n",
    "    try:\n",
    "        print(photo.attrib)\n",
    "        #df = df.append({'id': photo.attrib['id'], 'lat': photo.attrib['latitude'], 'lon': photo.attrib['longitude']}, ignore_index=True)\n",
    "        time.sleep(1)\n",
    "    except FlickrError:\n",
    "        time.sleep(30)"
   ]
  },
  {
   "cell_type": "code",
   "execution_count": null,
   "metadata": {},
   "outputs": [],
   "source": [
    "json = flickr.photos.getInfo(photo_id='48118995996',format='json')\n",
    "my_json = json.decode('utf8')\n",
    "user = (my_json[my_json.find('\"username\":\"')+len('\"username\":\"'):my_json.rfind('\",\"realname\"')])\n",
    "dates_posted = my_json[my_json.find('\"dates\":{\"posted\":\"')+len('\"dates\":{\"posted\":\"'):my_json.rfind('\",\"taken\"')]\n",
    "print(dates_posted)\n",
    "print(my_json)\n"
   ]
  },
  {
   "cell_type": "code",
   "execution_count": null,
   "metadata": {},
   "outputs": [],
   "source": [
    "json = flickr.photos.getInfo(photo_id='48118995996',format='json')\n",
    "my_json = json.decode('utf8')\n",
    "user = (my_json[my_json.find('\"username\":\"')+len('\"username\":\"'):my_json.rfind('\",\"realname\"')])\n",
    "dates_posted = my_json[my_json.find('\"dates\":{\"posted\":\"')+len('\"dates\":{\"posted\":\"'):my_json.rfind('\",\"taken\"')]\n",
    "print(dates_posted)\n",
    "print(my_json)"
   ]
  },
  {
   "cell_type": "code",
   "execution_count": null,
   "metadata": {},
   "outputs": [],
   "source": [
    "df_clean = df[df['lat'].map(len) > 1]"
   ]
  },
  {
   "cell_type": "code",
   "execution_count": null,
   "metadata": {},
   "outputs": [],
   "source": [
    "export_csv = df_clean.to_csv ('./flickr_locations.csv', index = None, header=True)"
   ]
  },
  {
   "cell_type": "code",
   "execution_count": null,
   "metadata": {},
   "outputs": [],
   "source": []
  }
 ],
 "metadata": {
  "kernelspec": {
   "display_name": "Python 3",
   "language": "python",
   "name": "python3"
  },
  "language_info": {
   "codemirror_mode": {
    "name": "ipython",
    "version": 3
   },
   "file_extension": ".py",
   "mimetype": "text/x-python",
   "name": "python",
   "nbconvert_exporter": "python",
   "pygments_lexer": "ipython3",
   "version": "3.7.3"
  }
 },
 "nbformat": 4,
 "nbformat_minor": 2
}
