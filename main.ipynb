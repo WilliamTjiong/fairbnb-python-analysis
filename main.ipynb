{
 "cells": [
  {
   "cell_type": "markdown",
   "metadata": {},
   "source": [
    "<b>Notebook for exploring tourism intensity and other spatial attributes based on Inside Airbnb listing data </b>"
   ]
  },
  {
   "cell_type": "code",
   "execution_count": 16,
   "metadata": {},
   "outputs": [],
   "source": [
    "import pandas as pd\n",
    "import geopandas as gpd\n",
    "import matplotlib.pyplot as plt\n",
    "\n",
    "from geopandas import GeoDataFrame\n",
    "from shapely.geometry import Point\n",
    "\n",
    "%matplotlib inline\n",
    "plt.rcParams['figure.figsize'] = (20, 10)"
   ]
  },
  {
   "cell_type": "code",
   "execution_count": 17,
   "metadata": {},
   "outputs": [],
   "source": [
    "#loading inside airbnb data\n",
    "url = \"http://data.insideairbnb.com/the-netherlands/north-holland/amsterdam/2019-05-06/visualisations/listings.csv\"\n",
    "airbnb_df = pd.read_csv(url)\n",
    "\n",
    "geometry = [Point(xy) for xy in zip(airbnb_df['longitude'], airbnb_df['latitude'])]\n",
    "airbnb_df = airbnb_df.drop(['latitude', 'longitude'], axis=1)\n",
    "crs = {'init': 'epsg:4326'}\n",
    "airbnb_gdf = GeoDataFrame(df, crs=crs, geometry=geometry)"
   ]
  },
  {
   "cell_type": "code",
   "execution_count": 23,
   "metadata": {},
   "outputs": [],
   "source": [
    "#loading Amsterdam 2018 census data\n",
    "buurt_geojson = \"./neighbourhoods_2018.geojson\"\n",
    "buurt_gpd = gpd.read_file(fname)\n",
    "buurt_gpd.head()\n",
    "buurt_gpd = GeoDataFrame(buurt_gpd,crs=crs,geometry=buurt_gpd['geometry'])"
   ]
  },
  {
   "cell_type": "code",
   "execution_count": null,
   "metadata": {},
   "outputs": [],
   "source": []
  },
  {
   "cell_type": "code",
   "execution_count": null,
   "metadata": {},
   "outputs": [],
   "source": []
  },
  {
   "cell_type": "code",
   "execution_count": null,
   "metadata": {},
   "outputs": [],
   "source": []
  }
 ],
 "metadata": {
  "kernelspec": {
   "display_name": "Python 3",
   "language": "python",
   "name": "python3"
  },
  "language_info": {
   "codemirror_mode": {
    "name": "ipython",
    "version": 3
   },
   "file_extension": ".py",
   "mimetype": "text/x-python",
   "name": "python",
   "nbconvert_exporter": "python",
   "pygments_lexer": "ipython3",
   "version": "3.7.3"
  }
 },
 "nbformat": 4,
 "nbformat_minor": 2
}
