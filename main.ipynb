{
 "cells": [
  {
   "cell_type": "markdown",
   "metadata": {},
   "source": [
    "<b>Notebook for exploring tourism intensity and other spatial attributes based on Inside Airbnb listing data </b>"
   ]
  },
  {
   "cell_type": "code",
   "execution_count": 1,
   "metadata": {},
   "outputs": [],
   "source": [
    "import geopandas as gpd\n",
    "\n",
    "from scripts.data_wrangling import listing2gdf, census2gdf, aggregate,CalculateTouristIntensity"
   ]
  },
  {
   "cell_type": "code",
   "execution_count": 2,
   "metadata": {},
   "outputs": [],
   "source": [
    "apr2019 = \"http://data.insideairbnb.com/the-netherlands/north-holland/amsterdam/2019-04-08/data/listings.csv.gz\"\n",
    "apr2018 = \"http://data.insideairbnb.com/the-netherlands/north-holland/amsterdam/2018-04-07/data/listings.csv.gz\"\n",
    "apr2017 = \"http://data.insideairbnb.com/the-netherlands/north-holland/amsterdam/2017-04-02/data/listings.csv.gz\"\n",
    "apr2016 = \"http://data.insideairbnb.com/the-netherlands/north-holland/amsterdam/2016-04-04/data/listings.csv.gz\"\n",
    "apr2015 = \"http://data.insideairbnb.com/the-netherlands/north-holland/amsterdam/2015-04-05/data/listings.csv.gz\"\n",
    "\n",
    "listings_2015_2019 = [apr2019,apr2018,apr2017,apr2016,apr2015]"
   ]
  },
  {
   "cell_type": "code",
   "execution_count": 12,
   "metadata": {},
   "outputs": [
    {
     "name": "stdout",
     "output_type": "stream",
     "text": [
      "Processing: \n",
      "http://data.insideairbnb.com/the-netherlands/north-holland/amsterdam/2019-04-08/data/listings.csv.gz\n",
      "Done!\n",
      "Processing: \n",
      "http://data.insideairbnb.com/the-netherlands/north-holland/amsterdam/2018-04-07/data/listings.csv.gz\n",
      "Done!\n",
      "Processing: \n",
      "http://data.insideairbnb.com/the-netherlands/north-holland/amsterdam/2017-04-02/data/listings.csv.gz\n",
      "Done!\n",
      "Processing: \n",
      "http://data.insideairbnb.com/the-netherlands/north-holland/amsterdam/2016-04-04/data/listings.csv.gz\n",
      "Done!\n",
      "Processing: \n",
      "http://data.insideairbnb.com/the-netherlands/north-holland/amsterdam/2015-04-05/data/listings.csv.gz\n",
      "Done!\n"
     ]
    }
   ],
   "source": [
    "for url in listings_2015_2019:\n",
    "    \n",
    "    date = url.split('/')[-3].replace('-','')\n",
    "    year = date[0:4]\n",
    "    \n",
    "    print(\"Processing: \\n\" + url)\n",
    "    \n",
    "    #load airbnb data and seperate features\n",
    "    airbnb_gdf = listing2gdf(url)\n",
    "    room = airbnb_gdf.loc[airbnb_gdf['room_type'].isin(['Private room','Shared room'])]\n",
    "    entire_home = airbnb_gdf.loc[airbnb_gdf['room_type']=='Entire home/apt']\n",
    "    superhost = airbnb_gdf.loc[airbnb_gdf['host_is_superhost']=='t']\n",
    "\n",
    "    #loading Amsterdam census data\n",
    "    nbh_gdf = census2gdf(\"./data/amsterdam_neighbourhoods.geojson\")\n",
    "    \n",
    "    #aggregate airbnb features and census data\n",
    "    nbh_gdf = aggregate(airbnb_gdf,nbh_gdf,room,entire_home,superhost)\n",
    "    \n",
    "    #calculate tourist intensity\n",
    "    nbh_gdf = CalculateTouristIntensity(nbh_gdf,year)\n",
    "    \n",
    "    #export listing and airbnb data as geojson files\n",
    "    nbh_gdf.to_file(\"./output/InsideAirnbnb_analysis_{}_polygon.geojson\".format(date), driver=\"GeoJSON\")\n",
    "    airbnb_gdf.to_file(\"./output/InsideAirbnb_listing_{}_point.geojson\".format(date),driver=\"GeoJSON\")\n",
    "    \n",
    "    print(\"Done!\")"
   ]
  },
  {
   "cell_type": "code",
   "execution_count": null,
   "metadata": {},
   "outputs": [],
   "source": []
  },
  {
   "cell_type": "code",
   "execution_count": null,
   "metadata": {
    "scrolled": true
   },
   "outputs": [],
   "source": []
  },
  {
   "cell_type": "code",
   "execution_count": null,
   "metadata": {
    "scrolled": true
   },
   "outputs": [],
   "source": []
  },
  {
   "cell_type": "code",
   "execution_count": null,
   "metadata": {
    "scrolled": true
   },
   "outputs": [],
   "source": []
  },
  {
   "cell_type": "code",
   "execution_count": null,
   "metadata": {},
   "outputs": [],
   "source": []
  },
  {
   "cell_type": "code",
   "execution_count": null,
   "metadata": {},
   "outputs": [],
   "source": []
  }
 ],
 "metadata": {
  "kernelspec": {
   "display_name": "Python 3",
   "language": "python",
   "name": "python3"
  },
  "language_info": {
   "codemirror_mode": {
    "name": "ipython",
    "version": 3
   },
   "file_extension": ".py",
   "mimetype": "text/x-python",
   "name": "python",
   "nbconvert_exporter": "python",
   "pygments_lexer": "ipython3",
   "version": "3.7.3"
  }
 },
 "nbformat": 4,
 "nbformat_minor": 2
}
